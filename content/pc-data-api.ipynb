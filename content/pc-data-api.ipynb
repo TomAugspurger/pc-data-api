{
  "metadata": {
    "kernelspec": {
      "name": "python",
      "display_name": "Python (Pyodide)",
      "language": "python"
    },
    "language_info": {
      "codemirror_mode": {
        "name": "python",
        "version": 3
      },
      "file_extension": ".py",
      "mimetype": "text/x-python",
      "name": "python",
      "nbconvert_exporter": "python",
      "pygments_lexer": "ipython3",
      "version": "3.8"
    },
    "widgets": {
      "application/vnd.jupyter.widget-state+json": {
        "state": {
          "00e0da94e40b41f9b7b8277e7a39e280": {
            "model_module": "jupyter-leaflet",
            "model_module_version": "^0.16.0",
            "model_name": "LeafletMapStyleModel",
            "state": {
              "_model_module_version": "^0.16.0"
            }
          },
          "0880dbe489d24d688296d8f5089caeb3": {
            "model_module": "jupyter-leaflet",
            "model_module_version": "^0.16.0",
            "model_name": "LeafletTileLayerModel",
            "state": {
              "_model_module_version": "^0.16.0",
              "_view_module_version": "^0.16.0",
              "max_native_zoom": 18,
              "min_native_zoom": 0,
              "options": [
                "attribution",
                "bounds",
                "detect_retina",
                "max_native_zoom",
                "max_zoom",
                "min_native_zoom",
                "min_zoom",
                "no_wrap",
                "tile_size",
                "tms"
              ],
              "url": "https://planetarycomputer.microsoft.com/api/data/v1/mosaic/tiles/9666a052ef2530c567354ff5a7de88ab/WebMercatorQuad/{z}/{x}/{y}@1x?assets=B04&assets=B03&assets=B02&nodata=0&color_formula=Gamma+RGB+3.2+Saturation+0.8+Sigmoidal+RGB+25+0.35&collection=sentinel-2-l2a"
            }
          },
          "1ab801b4046f415d8bfc6d4c41a0e846": {
            "model_module": "jupyter-leaflet",
            "model_module_version": "^0.16.0",
            "model_name": "LeafletMapStyleModel",
            "state": {
              "_model_module_version": "^0.16.0",
              "cursor": "move"
            }
          },
          "1b128581d58044f6a6ff427445458a43": {
            "model_module": "jupyter-leaflet",
            "model_module_version": "^0.16.0",
            "model_name": "LeafletAttributionControlModel",
            "state": {
              "_model_module_version": "^0.16.0",
              "_view_module_version": "^0.16.0",
              "options": [
                "position",
                "prefix"
              ],
              "position": "bottomright",
              "prefix": "ipyleaflet"
            }
          },
          "1ba8313bc20b4b89815499c85564125e": {
            "model_module": "@jupyter-widgets/base",
            "model_module_version": "1.2.0",
            "model_name": "LayoutModel",
            "state": {}
          },
          "1d7e787d51cd47d59a3df7f7aba029ad": {
            "model_module": "jupyter-leaflet",
            "model_module_version": "^0.16.0",
            "model_name": "LeafletAttributionControlModel",
            "state": {
              "_model_module_version": "^0.16.0",
              "_view_module_version": "^0.16.0",
              "options": [
                "position",
                "prefix"
              ],
              "position": "bottomright",
              "prefix": "ipyleaflet"
            }
          },
          "1e7a82cc15764952a92a61f112e719d1": {
            "model_module": "jupyter-leaflet",
            "model_module_version": "^0.16.0",
            "model_name": "LeafletTileLayerModel",
            "state": {
              "_model_module_version": "^0.16.0",
              "_view_module_version": "^0.16.0",
              "attribution": "&copy; <a href=\"https://www.openstreetmap.org/copyright\">OpenStreetMap</a> contributors",
              "base": true,
              "max_native_zoom": 18,
              "max_zoom": 19,
              "min_native_zoom": 0,
              "min_zoom": 1,
              "name": "OpenStreetMap.Mapnik",
              "options": [
                "attribution",
                "bounds",
                "detect_retina",
                "max_native_zoom",
                "max_zoom",
                "min_native_zoom",
                "min_zoom",
                "no_wrap",
                "tile_size",
                "tms"
              ],
              "url": "https://a.tile.openstreetmap.org/{z}/{x}/{y}.png"
            }
          },
          "29486ae08b9c439b951172a83f6b3cce": {
            "model_module": "jupyter-leaflet",
            "model_module_version": "^0.16.0",
            "model_name": "LeafletMapStyleModel",
            "state": {
              "_model_module_version": "^0.16.0"
            }
          },
          "36547847954e47258f46f679b00a0852": {
            "model_module": "jupyter-leaflet",
            "model_module_version": "^0.16.0",
            "model_name": "LeafletTileLayerModel",
            "state": {
              "_model_module_version": "^0.16.0",
              "_view_module_version": "^0.16.0",
              "attribution": "&copy; <a href=\"https://www.openstreetmap.org/copyright\">OpenStreetMap</a> contributors",
              "base": true,
              "max_native_zoom": 18,
              "max_zoom": 19,
              "min_native_zoom": 0,
              "min_zoom": 1,
              "name": "OpenStreetMap.Mapnik",
              "options": [
                "attribution",
                "bounds",
                "detect_retina",
                "max_native_zoom",
                "max_zoom",
                "min_native_zoom",
                "min_zoom",
                "no_wrap",
                "tile_size",
                "tms"
              ],
              "url": "https://a.tile.openstreetmap.org/{z}/{x}/{y}.png"
            }
          },
          "37429ea364f2410ba0294928f27352a8": {
            "model_module": "jupyter-leaflet",
            "model_module_version": "^0.16.0",
            "model_name": "LeafletMapStyleModel",
            "state": {
              "_model_module_version": "^0.16.0",
              "cursor": "move"
            }
          },
          "38cbccf54f704de697d06386d38b3f48": {
            "model_module": "jupyter-leaflet",
            "model_module_version": "^0.16.0",
            "model_name": "LeafletGeoJSONModel",
            "state": {
              "_model_module_version": "^0.16.0",
              "_view_module_version": "^0.16.0",
              "data": {
                "coordinates": [
                  [
                    [
                      20.93889488734797,
                      1.2110013529977834
                    ],
                    [
                      21.60842079583614,
                      1.2110013529977834
                    ],
                    [
                      21.60842079583614,
                      3.0331473183450584
                    ],
                    [
                      20.93889488734797,
                      3.0331473183450584
                    ],
                    [
                      20.93889488734797,
                      1.2110013529977834
                    ]
                  ]
                ],
                "type": "Polygon"
              },
              "style": {
                "fillOpacity": 0
              }
            }
          },
          "38e92131f511488bae9804ca94945de6": {
            "model_module": "jupyter-leaflet",
            "model_module_version": "^0.16.0",
            "model_name": "LeafletTileLayerModel",
            "state": {
              "_model_module_version": "^0.16.0",
              "_view_module_version": "^0.16.0",
              "max_native_zoom": 18,
              "min_native_zoom": 0,
              "options": [
                "attribution",
                "bounds",
                "detect_retina",
                "max_native_zoom",
                "max_zoom",
                "min_native_zoom",
                "min_zoom",
                "no_wrap",
                "tile_size",
                "tms"
              ],
              "url": "https://planetarycomputer.microsoft.com/api/data/v1/mosaic/tiles/125b5f36fbc3a2e80e011495798a9739/WebMercatorQuad/{z}/{x}/{y}@1x?assets=B04&assets=B03&assets=B02&nodata=0&color_formula=Gamma+RGB+3.2+Saturation+0.8+Sigmoidal+RGB+25+0.35&collection=sentinel-2-l2a"
            }
          },
          "3a088c135bc541c6aa6703f04c992cd8": {
            "model_module": "jupyter-leaflet",
            "model_module_version": "^0.16.0",
            "model_name": "LeafletGeoJSONModel",
            "state": {
              "_model_module_version": "^0.16.0",
              "_view_module_version": "^0.16.0",
              "data": {
                "coordinates": [
                  [
                    [
                      29.036865234375,
                      7.857940257224196
                    ],
                    [
                      31.4813232421875,
                      7.857940257224196
                    ],
                    [
                      31.4813232421875,
                      10.055402736564236
                    ],
                    [
                      29.036865234375,
                      10.055402736564236
                    ],
                    [
                      29.036865234375,
                      7.857940257224196
                    ]
                  ]
                ],
                "type": "Polygon"
              },
              "style": {
                "fillOpacity": 0
              }
            }
          },
          "3a12b1e6237b410a93899d60f334a4df": {
            "model_module": "jupyter-leaflet",
            "model_module_version": "^0.16.0",
            "model_name": "LeafletZoomControlModel",
            "state": {
              "_model_module_version": "^0.16.0",
              "_view_module_version": "^0.16.0",
              "options": [
                "position",
                "zoom_in_text",
                "zoom_in_title",
                "zoom_out_text",
                "zoom_out_title"
              ]
            }
          },
          "3b295619305042129d88c04635a62372": {
            "model_module": "jupyter-leaflet",
            "model_module_version": "^0.16.0",
            "model_name": "LeafletTileLayerModel",
            "state": {
              "_model_module_version": "^0.16.0",
              "_view_module_version": "^0.16.0",
              "attribution": "&copy; <a href=\"https://www.openstreetmap.org/copyright\">OpenStreetMap</a> contributors",
              "base": true,
              "max_native_zoom": 18,
              "max_zoom": 19,
              "min_native_zoom": 0,
              "min_zoom": 1,
              "name": "OpenStreetMap.Mapnik",
              "options": [
                "attribution",
                "bounds",
                "detect_retina",
                "max_native_zoom",
                "max_zoom",
                "min_native_zoom",
                "min_zoom",
                "no_wrap",
                "tile_size",
                "tms"
              ],
              "url": "https://a.tile.openstreetmap.org/{z}/{x}/{y}.png"
            }
          },
          "3d7b2d7dd5934b44bfc007f64c2d1fb7": {
            "model_module": "jupyter-leaflet",
            "model_module_version": "^0.16.0",
            "model_name": "LeafletTileLayerModel",
            "state": {
              "_model_module_version": "^0.16.0",
              "_view_module_version": "^0.16.0",
              "max_native_zoom": 18,
              "min_native_zoom": 0,
              "options": [
                "attribution",
                "bounds",
                "detect_retina",
                "max_native_zoom",
                "max_zoom",
                "min_native_zoom",
                "min_zoom",
                "no_wrap",
                "tile_size",
                "tms"
              ],
              "url": "https://planetarycomputer-staging.microsoft.com/api/data/v1/item/tiles/WebMercatorQuad/{z}/{x}/{y}@1x?collection=sentinel-2-l2a&item=S2B_MSIL2A_20220606T080609_R078_T36PUR_20220606T193343&assets=visual&asset_bidx=visual%7C1%2C2%2C3&nodata=0"
            }
          },
          "405d31a5ceb04ebebd573e8a2e5e4b16": {
            "model_module": "jupyter-leaflet",
            "model_module_version": "^0.16.0",
            "model_name": "LeafletMapStyleModel",
            "state": {
              "_model_module_version": "^0.16.0"
            }
          },
          "44aea4d4e8d2486885bd2c623d3d44b7": {
            "model_module": "@jupyter-widgets/base",
            "model_module_version": "1.2.0",
            "model_name": "LayoutModel",
            "state": {}
          },
          "47876572b8994e52923f505d68b48912": {
            "model_module": "jupyter-leaflet",
            "model_module_version": "^0.16.0",
            "model_name": "LeafletAttributionControlModel",
            "state": {
              "_model_module_version": "^0.16.0",
              "_view_module_version": "^0.16.0",
              "options": [
                "position",
                "prefix"
              ],
              "position": "bottomright",
              "prefix": "ipyleaflet"
            }
          },
          "4af8ee709800472880488ad1fe309b7c": {
            "model_module": "jupyter-leaflet",
            "model_module_version": "^0.16.0",
            "model_name": "LeafletZoomControlModel",
            "state": {
              "_model_module_version": "^0.16.0",
              "_view_module_version": "^0.16.0",
              "options": [
                "position",
                "zoom_in_text",
                "zoom_in_title",
                "zoom_out_text",
                "zoom_out_title"
              ]
            }
          },
          "4d6d19153dbd41d08a25964d9f16be3d": {
            "model_module": "jupyter-leaflet",
            "model_module_version": "^0.16.0",
            "model_name": "LeafletTileLayerModel",
            "state": {
              "_model_module_version": "^0.16.0",
              "_view_module_version": "^0.16.0",
              "max_native_zoom": 18,
              "min_native_zoom": 0,
              "options": [
                "attribution",
                "bounds",
                "detect_retina",
                "max_native_zoom",
                "max_zoom",
                "min_native_zoom",
                "min_zoom",
                "no_wrap",
                "tile_size",
                "tms"
              ],
              "url": "https://planetarycomputer.microsoft.com/api/data/v1/mosaic/tiles/125b5f36fbc3a2e80e011495798a9739/WebMercatorQuad/{z}/{x}/{y}@1x?assets=B04&assets=B03&assets=B02&nodata=0&color_formula=Gamma+RGB+3.2+Saturation+0.8+Sigmoidal+RGB+25+0.35&collection=sentinel-2-l2a"
            }
          },
          "4e8591ec9e3140099289fe59f3e150ce": {
            "model_module": "jupyter-leaflet",
            "model_module_version": "^0.16.0",
            "model_name": "LeafletZoomControlModel",
            "state": {
              "_model_module_version": "^0.16.0",
              "_view_module_version": "^0.16.0",
              "options": [
                "position",
                "zoom_in_text",
                "zoom_in_title",
                "zoom_out_text",
                "zoom_out_title"
              ]
            }
          },
          "4f1cdd609d3a44c7809659e7ce20becb": {
            "model_module": "jupyter-leaflet",
            "model_module_version": "^0.16.0",
            "model_name": "LeafletTileLayerModel",
            "state": {
              "_model_module_version": "^0.16.0",
              "_view_module_version": "^0.16.0",
              "attribution": "&copy; <a href=\"https://www.openstreetmap.org/copyright\">OpenStreetMap</a> contributors",
              "base": true,
              "max_native_zoom": 18,
              "max_zoom": 19,
              "min_native_zoom": 0,
              "min_zoom": 1,
              "name": "OpenStreetMap.Mapnik",
              "options": [
                "attribution",
                "bounds",
                "detect_retina",
                "max_native_zoom",
                "max_zoom",
                "min_native_zoom",
                "min_zoom",
                "no_wrap",
                "tile_size",
                "tms"
              ],
              "url": "https://a.tile.openstreetmap.org/{z}/{x}/{y}.png"
            }
          },
          "507f9143d86f4858850de6fd5545ca5a": {
            "model_module": "jupyter-leaflet",
            "model_module_version": "^0.16.0",
            "model_name": "LeafletFullScreenControlModel",
            "state": {
              "_model_module_version": "^0.16.0",
              "_view_module_version": "^0.16.0",
              "options": [
                "position"
              ]
            }
          },
          "51b6072592de4dde903ce0c05cb38a6e": {
            "model_module": "jupyter-leaflet",
            "model_module_version": "^0.16.0",
            "model_name": "LeafletFullScreenControlModel",
            "state": {
              "_model_module_version": "^0.16.0",
              "_view_module_version": "^0.16.0",
              "options": [
                "position"
              ]
            }
          },
          "53ec5455e810410e94d6dbbcfe1d387c": {
            "model_module": "@jupyter-widgets/base",
            "model_module_version": "1.2.0",
            "model_name": "LayoutModel",
            "state": {}
          },
          "5667c74382444b36bd3f32fe4a340895": {
            "model_module": "jupyter-leaflet",
            "model_module_version": "^0.16.0",
            "model_name": "LeafletMapStyleModel",
            "state": {
              "_model_module_version": "^0.16.0"
            }
          },
          "57fad84d5b454543bc676d1fd71b33eb": {
            "model_module": "jupyter-leaflet",
            "model_module_version": "^0.16.0",
            "model_name": "LeafletTileLayerModel",
            "state": {
              "_model_module_version": "^0.16.0",
              "_view_module_version": "^0.16.0",
              "attribution": "&copy; <a href=\"https://www.openstreetmap.org/copyright\">OpenStreetMap</a> contributors",
              "base": true,
              "max_native_zoom": 18,
              "max_zoom": 19,
              "min_native_zoom": 0,
              "min_zoom": 1,
              "name": "OpenStreetMap.Mapnik",
              "options": [
                "attribution",
                "bounds",
                "detect_retina",
                "max_native_zoom",
                "max_zoom",
                "min_native_zoom",
                "min_zoom",
                "no_wrap",
                "tile_size",
                "tms"
              ],
              "url": "https://a.tile.openstreetmap.org/{z}/{x}/{y}.png"
            }
          },
          "61d31c78ce39480eb0b7ca4efa7e9a32": {
            "model_module": "@jupyter-widgets/base",
            "model_module_version": "1.2.0",
            "model_name": "LayoutModel",
            "state": {}
          },
          "62523fbd79d14a9f8c115913e971c4ed": {
            "model_module": "jupyter-leaflet",
            "model_module_version": "^0.16.0",
            "model_name": "LeafletGeoJSONModel",
            "state": {
              "_model_module_version": "^0.16.0",
              "_view_module_version": "^0.16.0",
              "data": {
                "coordinates": [
                  [
                    [
                      29.036865234375,
                      7.857940257224196
                    ],
                    [
                      31.4813232421875,
                      7.857940257224196
                    ],
                    [
                      31.4813232421875,
                      10.055402736564236
                    ],
                    [
                      29.036865234375,
                      10.055402736564236
                    ],
                    [
                      29.036865234375,
                      7.857940257224196
                    ]
                  ]
                ],
                "type": "Polygon"
              },
              "style": {
                "fillOpacity": 0
              }
            }
          },
          "689480068dc146e98ff4a24f11f04a7b": {
            "model_module": "jupyter-leaflet",
            "model_module_version": "^0.16.0",
            "model_name": "LeafletFullScreenControlModel",
            "state": {
              "_model_module_version": "^0.16.0",
              "_view_module_version": "^0.16.0",
              "options": [
                "position"
              ]
            }
          },
          "693c5870419f42969f7bb89039567b74": {
            "model_module": "jupyter-leaflet",
            "model_module_version": "^0.16.0",
            "model_name": "LeafletMapStyleModel",
            "state": {
              "_model_module_version": "^0.16.0"
            }
          },
          "6ade9449bc3d46ea9a287830210a3b4c": {
            "model_module": "jupyter-leaflet",
            "model_module_version": "^0.16.0",
            "model_name": "LeafletMapStyleModel",
            "state": {
              "_model_module_version": "^0.16.0",
              "cursor": "move"
            }
          },
          "6d0c237524534a9dba549bda395f524a": {
            "model_module": "jupyter-leaflet",
            "model_module_version": "^0.16.0",
            "model_name": "LeafletMapStyleModel",
            "state": {
              "_model_module_version": "^0.16.0"
            }
          },
          "70ceae2459164e6194a33c9103e6232f": {
            "model_module": "jupyter-leaflet",
            "model_module_version": "^0.16.0",
            "model_name": "LeafletMapStyleModel",
            "state": {
              "_model_module_version": "^0.16.0"
            }
          },
          "806fc30699dc4a56b41ac2051ba24db9": {
            "model_module": "jupyter-leaflet",
            "model_module_version": "^0.16.0",
            "model_name": "LeafletMapModel",
            "state": {
              "_model_module_version": "^0.16.0",
              "_view_module_version": "^0.16.0",
              "bottom": 993087.0000610352,
              "center": [
                9.481741390960623,
                31.080619823187593
              ],
              "controls": [
                "IPY_MODEL_9706957cb7d8438aa3f01d93d1a853bb",
                "IPY_MODEL_4e8591ec9e3140099289fe59f3e150ce",
                "IPY_MODEL_c23e8cfbb43145f1b4ab934a5b81b89e"
              ],
              "default_style": "IPY_MODEL_c22c9b6ff6ed4126bd36dc9f602f85ed",
              "dragging_style": "IPY_MODEL_f7a057b55e7e459a8b6594daa645ef1a",
              "east": 31.080619823187593,
              "fullscreen": false,
              "interpolation": "bilinear",
              "layers": [
                "IPY_MODEL_3b295619305042129d88c04635a62372",
                "IPY_MODEL_38e92131f511488bae9804ca94945de6",
                "IPY_MODEL_62523fbd79d14a9f8c115913e971c4ed"
              ],
              "layout": "IPY_MODEL_53ec5455e810410e94d6dbbcfe1d387c",
              "left": 1229633.7333984375,
              "modisdate": "2022-07-07",
              "north": 9.481741390960623,
              "options": [
                "bounce_at_zoom_limits",
                "box_zoom",
                "center",
                "close_popup_on_click",
                "double_click_zoom",
                "dragging",
                "fullscreen",
                "inertia",
                "inertia_deceleration",
                "inertia_max_speed",
                "interpolation",
                "keyboard",
                "keyboard_pan_offset",
                "keyboard_zoom_offset",
                "max_zoom",
                "min_zoom",
                "prefer_canvas",
                "scroll_wheel_zoom",
                "tap",
                "tap_tolerance",
                "touch_zoom",
                "world_copy_jump",
                "zoom",
                "zoom_animation_threshold",
                "zoom_delta",
                "zoom_snap",
                "zoom_start"
              ],
              "prefer_canvas": false,
              "right": 1229633.7333984375,
              "scroll_wheel_zoom": true,
              "south": 9.481741390960623,
              "style": "IPY_MODEL_c22c9b6ff6ed4126bd36dc9f602f85ed",
              "top": 993087.0000610352,
              "west": 31.080619823187593,
              "window_url": "https://pcc-staging.westeurope.cloudapp.azure.com/compute/user/taugspurger@microsoft.com/lab/tree/data-api/data%20api.ipynb",
              "zoom": 13
            }
          },
          "8861bbf40400489887b9259fc99e7050": {
            "model_module": "jupyter-leaflet",
            "model_module_version": "^0.16.0",
            "model_name": "LeafletFullScreenControlModel",
            "state": {
              "_model_module_version": "^0.16.0",
              "_view_module_version": "^0.16.0",
              "options": [
                "position"
              ]
            }
          },
          "8d5fa9de053042fdbf44a1f467f43d0a": {
            "model_module": "jupyter-leaflet",
            "model_module_version": "^0.16.0",
            "model_name": "LeafletMapStyleModel",
            "state": {
              "_model_module_version": "^0.16.0",
              "cursor": "move"
            }
          },
          "9706957cb7d8438aa3f01d93d1a853bb": {
            "model_module": "jupyter-leaflet",
            "model_module_version": "^0.16.0",
            "model_name": "LeafletFullScreenControlModel",
            "state": {
              "_model_module_version": "^0.16.0",
              "_view_module_version": "^0.16.0",
              "options": [
                "position"
              ]
            }
          },
          "98b86c7f5b97409591e3a24b60f05ff7": {
            "model_module": "jupyter-leaflet",
            "model_module_version": "^0.16.0",
            "model_name": "LeafletGeoJSONModel",
            "state": {
              "_model_module_version": "^0.16.0",
              "_view_module_version": "^0.16.0",
              "data": {
                "coordinates": [
                  [
                    [
                      29.280624389646306,
                      7.777669163618185
                    ],
                    [
                      30.913467407224516,
                      7.777669163618185
                    ],
                    [
                      30.913467407224516,
                      9.035646651407689
                    ],
                    [
                      29.280624389646306,
                      9.035646651407689
                    ],
                    [
                      29.280624389646306,
                      7.777669163618185
                    ]
                  ]
                ],
                "type": "Polygon"
              },
              "style": {
                "fillOpacity": 0
              }
            }
          },
          "a0da00d7d82f4046b451592b5db7a5f9": {
            "model_module": "jupyter-leaflet",
            "model_module_version": "^0.16.0",
            "model_name": "LeafletZoomControlModel",
            "state": {
              "_model_module_version": "^0.16.0",
              "_view_module_version": "^0.16.0",
              "options": [
                "position",
                "zoom_in_text",
                "zoom_in_title",
                "zoom_out_text",
                "zoom_out_title"
              ]
            }
          },
          "a92324f45b0c4beea4c7804507356f60": {
            "model_module": "jupyter-leaflet",
            "model_module_version": "^0.16.0",
            "model_name": "LeafletMapStyleModel",
            "state": {
              "_model_module_version": "^0.16.0"
            }
          },
          "ab4ed4ee71e2460dab9e79235cda8d01": {
            "model_module": "jupyter-leaflet",
            "model_module_version": "^0.16.0",
            "model_name": "LeafletMapStyleModel",
            "state": {
              "_model_module_version": "^0.16.0"
            }
          },
          "ac2e443b35914cf2ad2f5501bab431c2": {
            "model_module": "jupyter-leaflet",
            "model_module_version": "^0.16.0",
            "model_name": "LeafletMapModel",
            "state": {
              "_model_module_version": "^0.16.0",
              "_view_module_version": "^0.16.0",
              "bottom": 994810.0667114258,
              "center": [
                9.223765509137227,
                30.968341820407662
              ],
              "controls": [
                "IPY_MODEL_bdc4b522ac0449f7816fcfaa02ce6418",
                "IPY_MODEL_3a12b1e6237b410a93899d60f334a4df",
                "IPY_MODEL_d5fcf0d8dc954342b970d6658c27d165"
              ],
              "default_style": "IPY_MODEL_693c5870419f42969f7bb89039567b74",
              "dragging_style": "IPY_MODEL_1ab801b4046f415d8bfc6d4c41a0e846",
              "east": 31.12798690097407,
              "fullscreen": false,
              "interpolation": "bilinear",
              "layers": [
                "IPY_MODEL_4f1cdd609d3a44c7809659e7ce20becb",
                "IPY_MODEL_4d6d19153dbd41d08a25964d9f16be3d",
                "IPY_MODEL_3a088c135bc541c6aa6703f04c992cd8"
              ],
              "layout": "IPY_MODEL_df06874d523b41c3b7b5d039f55f898d",
              "left": 1228049.6666259766,
              "modisdate": "2022-07-07",
              "north": 9.257652234147843,
              "options": [
                "bounce_at_zoom_limits",
                "box_zoom",
                "center",
                "close_popup_on_click",
                "double_click_zoom",
                "dragging",
                "fullscreen",
                "inertia",
                "inertia_deceleration",
                "inertia_max_speed",
                "interpolation",
                "keyboard",
                "keyboard_pan_offset",
                "keyboard_zoom_offset",
                "max_zoom",
                "min_zoom",
                "prefer_canvas",
                "scroll_wheel_zoom",
                "tap",
                "tap_tolerance",
                "touch_zoom",
                "world_copy_jump",
                "zoom",
                "zoom_animation_threshold",
                "zoom_delta",
                "zoom_snap",
                "zoom_start"
              ],
              "prefer_canvas": false,
              "right": 1229909.6666259766,
              "scroll_wheel_zoom": true,
              "south": 9.189875529220283,
              "style": "IPY_MODEL_693c5870419f42969f7bb89039567b74",
              "top": 994410.0667114258,
              "west": 30.808696739841256,
              "window_url": "https://pcc-staging.westeurope.cloudapp.azure.com/compute/user/taugspurger@microsoft.com/lab/tree/data-api/data%20api.ipynb",
              "zoom": 13
            }
          },
          "b5135f762c9a47b0a8e87fabe756a981": {
            "model_module": "jupyter-leaflet",
            "model_module_version": "^0.16.0",
            "model_name": "LeafletAttributionControlModel",
            "state": {
              "_model_module_version": "^0.16.0",
              "_view_module_version": "^0.16.0",
              "options": [
                "position",
                "prefix"
              ],
              "position": "bottomright",
              "prefix": "ipyleaflet"
            }
          },
          "bb71f965020b4f4b98124574b592c27c": {
            "model_module": "jupyter-leaflet",
            "model_module_version": "^0.16.0",
            "model_name": "LeafletMapStyleModel",
            "state": {
              "_model_module_version": "^0.16.0"
            }
          },
          "bdc4b522ac0449f7816fcfaa02ce6418": {
            "model_module": "jupyter-leaflet",
            "model_module_version": "^0.16.0",
            "model_name": "LeafletFullScreenControlModel",
            "state": {
              "_model_module_version": "^0.16.0",
              "_view_module_version": "^0.16.0",
              "options": [
                "position"
              ]
            }
          },
          "c22c9b6ff6ed4126bd36dc9f602f85ed": {
            "model_module": "jupyter-leaflet",
            "model_module_version": "^0.16.0",
            "model_name": "LeafletMapStyleModel",
            "state": {
              "_model_module_version": "^0.16.0"
            }
          },
          "c23e8cfbb43145f1b4ab934a5b81b89e": {
            "model_module": "jupyter-leaflet",
            "model_module_version": "^0.16.0",
            "model_name": "LeafletAttributionControlModel",
            "state": {
              "_model_module_version": "^0.16.0",
              "_view_module_version": "^0.16.0",
              "options": [
                "position",
                "prefix"
              ],
              "position": "bottomright",
              "prefix": "ipyleaflet"
            }
          },
          "c44519c339b1421fb34c3241c6093882": {
            "model_module": "jupyter-leaflet",
            "model_module_version": "^0.16.0",
            "model_name": "LeafletMapModel",
            "state": {
              "_model_module_version": "^0.16.0",
              "_view_module_version": "^0.16.0",
              "bottom": 498367,
              "center": [
                8.863534368574063,
                33.33050525518917
              ],
              "controls": [
                "IPY_MODEL_8861bbf40400489887b9259fc99e7050",
                "IPY_MODEL_a0da00d7d82f4046b451592b5db7a5f9",
                "IPY_MODEL_47876572b8994e52923f505d68b48912"
              ],
              "default_style": "IPY_MODEL_fbece9efef024532b8b16a488e03566a",
              "dragging_style": "IPY_MODEL_db9ea96447ac48f583bb9638d02d184d",
              "east": 33.33045959472657,
              "fullscreen": false,
              "interpolation": "bilinear",
              "layers": [
                "IPY_MODEL_57fad84d5b454543bc676d1fd71b33eb",
                "IPY_MODEL_d6d4e581fbe94ae69fe4dc74d76849b0"
              ],
              "layout": "IPY_MODEL_fe93b430022c4ab5aa9036df7d10121d",
              "left": 621370,
              "modisdate": "2022-07-07",
              "north": 8.86370125639254,
              "options": [
                "bounce_at_zoom_limits",
                "box_zoom",
                "center",
                "close_popup_on_click",
                "double_click_zoom",
                "dragging",
                "fullscreen",
                "inertia",
                "inertia_deceleration",
                "inertia_max_speed",
                "interpolation",
                "keyboard",
                "keyboard_pan_offset",
                "keyboard_zoom_offset",
                "max_zoom",
                "min_zoom",
                "prefer_canvas",
                "scroll_wheel_zoom",
                "tap",
                "tap_tolerance",
                "touch_zoom",
                "world_copy_jump",
                "zoom",
                "zoom_animation_threshold",
                "zoom_delta",
                "zoom_snap",
                "zoom_start"
              ],
              "prefer_canvas": false,
              "right": 621370,
              "scroll_wheel_zoom": true,
              "south": 8.86370125639254,
              "style": "IPY_MODEL_fbece9efef024532b8b16a488e03566a",
              "top": 498367,
              "west": 33.33045959472657,
              "window_url": "https://pcc-staging.westeurope.cloudapp.azure.com/compute/user/taugspurger@microsoft.com/lab/tree/data-api/data%20api.ipynb"
            }
          },
          "c939393ecc6f4b7e967c3bfd0f4fdfe1": {
            "model_module": "jupyter-leaflet",
            "model_module_version": "^0.16.0",
            "model_name": "LeafletMapModel",
            "state": {
              "_model_module_version": "^0.16.0",
              "_view_module_version": "^0.16.0",
              "center": [
                8.407168163601076,
                30.097045898437504
              ],
              "controls": [
                "IPY_MODEL_51b6072592de4dde903ce0c05cb38a6e",
                "IPY_MODEL_f1dc41ea20574108b9bfb6bb91ecab60",
                "IPY_MODEL_1d7e787d51cd47d59a3df7f7aba029ad"
              ],
              "default_style": "IPY_MODEL_a92324f45b0c4beea4c7804507356f60",
              "dragging_style": "IPY_MODEL_8d5fa9de053042fdbf44a1f467f43d0a",
              "east": -180,
              "fullscreen": false,
              "interpolation": "bilinear",
              "layers": [
                "IPY_MODEL_ed4a4a7f8b13429ba8ba02fc41c57716",
                "IPY_MODEL_ee87ce96ba10403e921ca41582b04991",
                "IPY_MODEL_98b86c7f5b97409591e3a24b60f05ff7"
              ],
              "layout": "IPY_MODEL_61d31c78ce39480eb0b7ca4efa7e9a32",
              "modisdate": "2022-07-07",
              "north": -90,
              "options": [
                "bounce_at_zoom_limits",
                "box_zoom",
                "center",
                "close_popup_on_click",
                "double_click_zoom",
                "dragging",
                "fullscreen",
                "inertia",
                "inertia_deceleration",
                "inertia_max_speed",
                "interpolation",
                "keyboard",
                "keyboard_pan_offset",
                "keyboard_zoom_offset",
                "max_zoom",
                "min_zoom",
                "prefer_canvas",
                "scroll_wheel_zoom",
                "tap",
                "tap_tolerance",
                "touch_zoom",
                "world_copy_jump",
                "zoom",
                "zoom_animation_threshold",
                "zoom_delta",
                "zoom_snap",
                "zoom_start"
              ],
              "prefer_canvas": false,
              "scroll_wheel_zoom": true,
              "south": 90,
              "style": "IPY_MODEL_a92324f45b0c4beea4c7804507356f60",
              "west": 180,
              "window_url": "https://pcc-staging.westeurope.cloudapp.azure.com/compute/user/taugspurger@microsoft.com/lab/tree/data-api/data%20api.ipynb",
              "zoom": 9
            }
          },
          "ca4eb0ed5bf44b089245b9bd21ff0d35": {
            "model_module": "jupyter-leaflet",
            "model_module_version": "^0.16.0",
            "model_name": "LeafletMapModel",
            "state": {
              "_model_module_version": "^0.16.0",
              "_view_module_version": "^0.16.0",
              "center": [
                2.1226222073166268,
                21.2750244140625
              ],
              "controls": [
                "IPY_MODEL_689480068dc146e98ff4a24f11f04a7b",
                "IPY_MODEL_4af8ee709800472880488ad1fe309b7c",
                "IPY_MODEL_b5135f762c9a47b0a8e87fabe756a981"
              ],
              "default_style": "IPY_MODEL_bb71f965020b4f4b98124574b592c27c",
              "dragging_style": "IPY_MODEL_37429ea364f2410ba0294928f27352a8",
              "east": -180,
              "fullscreen": false,
              "interpolation": "bilinear",
              "layers": [
                "IPY_MODEL_1e7a82cc15764952a92a61f112e719d1",
                "IPY_MODEL_0880dbe489d24d688296d8f5089caeb3",
                "IPY_MODEL_38cbccf54f704de697d06386d38b3f48"
              ],
              "layout": "IPY_MODEL_1ba8313bc20b4b89815499c85564125e",
              "modisdate": "2022-07-07",
              "north": -90,
              "options": [
                "bounce_at_zoom_limits",
                "box_zoom",
                "center",
                "close_popup_on_click",
                "double_click_zoom",
                "dragging",
                "fullscreen",
                "inertia",
                "inertia_deceleration",
                "inertia_max_speed",
                "interpolation",
                "keyboard",
                "keyboard_pan_offset",
                "keyboard_zoom_offset",
                "max_zoom",
                "min_zoom",
                "prefer_canvas",
                "scroll_wheel_zoom",
                "tap",
                "tap_tolerance",
                "touch_zoom",
                "world_copy_jump",
                "zoom",
                "zoom_animation_threshold",
                "zoom_delta",
                "zoom_snap",
                "zoom_start"
              ],
              "prefer_canvas": false,
              "scroll_wheel_zoom": true,
              "south": 90,
              "style": "IPY_MODEL_bb71f965020b4f4b98124574b592c27c",
              "west": 180,
              "window_url": "https://pcc-staging.westeurope.cloudapp.azure.com/compute/user/taugspurger@microsoft.com/lab/tree/data-api/data%20api.ipynb",
              "zoom": 9
            }
          },
          "cf1c97629a464da8a309cb198a6da0cc": {
            "model_module": "jupyter-leaflet",
            "model_module_version": "^0.16.0",
            "model_name": "LeafletZoomControlModel",
            "state": {
              "_model_module_version": "^0.16.0",
              "_view_module_version": "^0.16.0",
              "options": [
                "position",
                "zoom_in_text",
                "zoom_in_title",
                "zoom_out_text",
                "zoom_out_title"
              ]
            }
          },
          "d5fcf0d8dc954342b970d6658c27d165": {
            "model_module": "jupyter-leaflet",
            "model_module_version": "^0.16.0",
            "model_name": "LeafletAttributionControlModel",
            "state": {
              "_model_module_version": "^0.16.0",
              "_view_module_version": "^0.16.0",
              "options": [
                "position",
                "prefix"
              ],
              "position": "bottomright",
              "prefix": "ipyleaflet"
            }
          },
          "d6d4e581fbe94ae69fe4dc74d76849b0": {
            "model_module": "jupyter-leaflet",
            "model_module_version": "^0.16.0",
            "model_name": "LeafletTileLayerModel",
            "state": {
              "_model_module_version": "^0.16.0",
              "_view_module_version": "^0.16.0",
              "max_native_zoom": 18,
              "min_native_zoom": 0,
              "options": [
                "attribution",
                "bounds",
                "detect_retina",
                "max_native_zoom",
                "max_zoom",
                "min_native_zoom",
                "min_zoom",
                "no_wrap",
                "tile_size",
                "tms"
              ],
              "url": "https://planetarycomputer-staging.microsoft.com/api/data/v1/item/tiles/WebMercatorQuad/{z}/{x}/{y}@1x?collection=sentinel-2-l2a&item=S2B_MSIL2A_20220606T080609_R078_T36PUR_20220606T193343&assets=visual&asset_bidx=visual%7C1%2C2%2C3&nodata=0"
            }
          },
          "db9ea96447ac48f583bb9638d02d184d": {
            "model_module": "jupyter-leaflet",
            "model_module_version": "^0.16.0",
            "model_name": "LeafletMapStyleModel",
            "state": {
              "_model_module_version": "^0.16.0",
              "cursor": "move"
            }
          },
          "df06874d523b41c3b7b5d039f55f898d": {
            "model_module": "@jupyter-widgets/base",
            "model_module_version": "1.2.0",
            "model_name": "LayoutModel",
            "state": {}
          },
          "ed4a4a7f8b13429ba8ba02fc41c57716": {
            "model_module": "jupyter-leaflet",
            "model_module_version": "^0.16.0",
            "model_name": "LeafletTileLayerModel",
            "state": {
              "_model_module_version": "^0.16.0",
              "_view_module_version": "^0.16.0",
              "attribution": "&copy; <a href=\"https://www.openstreetmap.org/copyright\">OpenStreetMap</a> contributors",
              "base": true,
              "max_native_zoom": 18,
              "max_zoom": 19,
              "min_native_zoom": 0,
              "min_zoom": 1,
              "name": "OpenStreetMap.Mapnik",
              "options": [
                "attribution",
                "bounds",
                "detect_retina",
                "max_native_zoom",
                "max_zoom",
                "min_native_zoom",
                "min_zoom",
                "no_wrap",
                "tile_size",
                "tms"
              ],
              "url": "https://a.tile.openstreetmap.org/{z}/{x}/{y}.png"
            }
          },
          "ee87ce96ba10403e921ca41582b04991": {
            "model_module": "jupyter-leaflet",
            "model_module_version": "^0.16.0",
            "model_name": "LeafletTileLayerModel",
            "state": {
              "_model_module_version": "^0.16.0",
              "_view_module_version": "^0.16.0",
              "max_native_zoom": 18,
              "min_native_zoom": 0,
              "options": [
                "attribution",
                "bounds",
                "detect_retina",
                "max_native_zoom",
                "max_zoom",
                "min_native_zoom",
                "min_zoom",
                "no_wrap",
                "tile_size",
                "tms"
              ],
              "url": "https://planetarycomputer.microsoft.com/api/data/v1/mosaic/tiles/af1f3f620342881d3db995312726f93e/WebMercatorQuad/{z}/{x}/{y}@1x?assets=B04&assets=B03&assets=B02&nodata=0&color_formula=Gamma+RGB+3.2+Saturation+0.8+Sigmoidal+RGB+25+0.35&collection=sentinel-2-l2a"
            }
          },
          "f1dc41ea20574108b9bfb6bb91ecab60": {
            "model_module": "jupyter-leaflet",
            "model_module_version": "^0.16.0",
            "model_name": "LeafletZoomControlModel",
            "state": {
              "_model_module_version": "^0.16.0",
              "_view_module_version": "^0.16.0",
              "options": [
                "position",
                "zoom_in_text",
                "zoom_in_title",
                "zoom_out_text",
                "zoom_out_title"
              ]
            }
          },
          "f7a057b55e7e459a8b6594daa645ef1a": {
            "model_module": "jupyter-leaflet",
            "model_module_version": "^0.16.0",
            "model_name": "LeafletMapStyleModel",
            "state": {
              "_model_module_version": "^0.16.0",
              "cursor": "move"
            }
          },
          "fb3d2008c29b4b0784b2d0996553a3e7": {
            "model_module": "jupyter-leaflet",
            "model_module_version": "^0.16.0",
            "model_name": "LeafletMapModel",
            "state": {
              "_model_module_version": "^0.16.0",
              "_view_module_version": "^0.16.0",
              "bottom": 62279,
              "center": [
                9.451771132476008,
                31.679077148437504
              ],
              "controls": [
                "IPY_MODEL_507f9143d86f4858850de6fd5545ca5a",
                "IPY_MODEL_cf1c97629a464da8a309cb198a6da0cc",
                "IPY_MODEL_1b128581d58044f6a6ff427445458a43"
              ],
              "default_style": "IPY_MODEL_6d0c237524534a9dba549bda395f524a",
              "dragging_style": "IPY_MODEL_6ade9449bc3d46ea9a287830210a3b4c",
              "east": 34.23339843750001,
              "fullscreen": false,
              "interpolation": "bilinear",
              "layers": [
                "IPY_MODEL_36547847954e47258f46f679b00a0852",
                "IPY_MODEL_3d7b2d7dd5934b44bfc007f64c2d1fb7"
              ],
              "layout": "IPY_MODEL_44aea4d4e8d2486885bd2c623d3d44b7",
              "left": 76140,
              "modisdate": "2022-07-07",
              "north": 9.993195726219207,
              "options": [
                "bounce_at_zoom_limits",
                "box_zoom",
                "center",
                "close_popup_on_click",
                "double_click_zoom",
                "dragging",
                "fullscreen",
                "inertia",
                "inertia_deceleration",
                "inertia_max_speed",
                "interpolation",
                "keyboard",
                "keyboard_pan_offset",
                "keyboard_zoom_offset",
                "max_zoom",
                "min_zoom",
                "prefer_canvas",
                "scroll_wheel_zoom",
                "tap",
                "tap_tolerance",
                "touch_zoom",
                "world_copy_jump",
                "zoom",
                "zoom_animation_threshold",
                "zoom_delta",
                "zoom_snap",
                "zoom_start"
              ],
              "prefer_canvas": false,
              "right": 78000,
              "scroll_wheel_zoom": true,
              "south": 8.909493459962771,
              "style": "IPY_MODEL_6d0c237524534a9dba549bda395f524a",
              "top": 61879,
              "west": 29.124755859375004,
              "window_url": "https://pcc-staging.westeurope.cloudapp.azure.com/compute/user/taugspurger@microsoft.com/lab/tree/data-api/data%20api.ipynb",
              "zoom": 9
            }
          },
          "fbece9efef024532b8b16a488e03566a": {
            "model_module": "jupyter-leaflet",
            "model_module_version": "^0.16.0",
            "model_name": "LeafletMapStyleModel",
            "state": {
              "_model_module_version": "^0.16.0"
            }
          },
          "fe93b430022c4ab5aa9036df7d10121d": {
            "model_module": "@jupyter-widgets/base",
            "model_module_version": "1.2.0",
            "model_name": "LayoutModel",
            "state": {}
          }
        },
        "version_major": 2,
        "version_minor": 0
      }
    }
  },
  "nbformat_minor": 5,
  "nbformat": 4,
  "cells": [
    {
      "cell_type": "markdown",
      "source": "## Using the Planetary Computer's Data API\n\nThe Planetary Computer's [`/data` API](https://tomaugspurger.github.io/pc-data-api/lab/) provides an easy way to perform basic analytics and vizualize data hosted by the Planetary Computer, without having to deploy your own compute in Azure. This document gives an introduction to the data API.\n\n## Background\n\nOne of the core principals of cloud-native geospatial is putting the compute next to the data. The Planetary Computer stores its data in Azure Blob Storage in the West Europe region, so that would mean using one of Azure [many compute services](https://docs.microsoft.com/en-us/azure/architecture/guide/technology-choices/compute-decision-tree) to set up your own compute in West Europe. That's  why we set up the [Planetary Computer Hub](https://planetarycomputer.microsoft.com/docs/overview/environment/): a *very* convenient way to get started with cloud-native geospatial from your own browser.\n\nFor some use-cases, however, logging into the Hub and starting a Python kernel isn't appropriate (displaying images on a webpage, for example). It's an essentially manual and interactive form of compute, and involves the (costly) process of starting a Jupyter server on a Virtual Machine in Azure. Even if there were a hot virtual machine or Azure Function ready and waiting, eliminating the startup cost, the hassel of deployment might not be worth it for the outcome (displaying an image, again).\n\nThat's why the Planetary Computer provides a `/data` API: to efficiently and conveniently serve these kinds of \"simple\" usecases. The `/data` API, along with our STAC API, is what powers our [Explorer](https://planetarycomputer.microsoft.com/docs/overview/explorer/).\n\nThe reference documentation for the data API is at https://planetarycomputer.microsoft.com/api/data/v1/docs.\n\nOne quick note about how this document is presented, which itself makes the point of why the `/data` API is useful: This is document is a [Jupyter](https://jupyter.org/) notebook, just a bit of speficially formatted JSON. It's being hosted at https://tomaugspurger.github.io/pc-data-api/lab?path=pc-data-api.ipynb, which served that notebook JSON along with a [jupyterlite](https://jupyterlite.readthedocs.io/en/latest/), a JupyterLab distribution that runs entirely built in the browser. This includes a Python kernel, backed by [Pyodide](https://pyodide.org/).\n\nThe key point is *there's no notebook server running in Azure next to the data.* Everything running in this notebook, including the Python code, is running local to wherever you are. We'll be making HTTP calls to workers sitting in Azure, next to the data. But the only things things sent back to you locally are (relatively) small images.",
      "metadata": {},
      "id": "8d8093f9-68d2-455a-8854-4c19190daf40"
    },
    {
      "cell_type": "code",
      "source": "import piplite\nimport pyodide.http\n\nawait piplite.install([\"pystac\", \"ipyleaflet\"])\nimport pystac\nimport ipyleaflet\nfrom IPython.display import JSON, GeoJSON, Image",
      "metadata": {
        "trusted": true
      },
      "execution_count": 8,
      "outputs": [],
      "id": "3a61c5bb-8079-4617-bc6e-253595e93352"
    },
    {
      "cell_type": "markdown",
      "source": "## Display an Item\n\nThe simplest use of the `data` API looks similar to accessing a raw asset from Blob Storage. Many of our STAC items have a `rendered_preview` asset that's actually dynamically served by our `data` API.",
      "metadata": {},
      "id": "32c39fdf-c130-45e4-90b6-0b91645d5aa5"
    },
    {
      "cell_type": "code",
      "source": "r = await pyodide.http.pyfetch(\n    \"https://planetarycomputer.microsoft.com/api/stac/v1/collections/sentinel-2-l2a/items/S2B_MSIL2A_20220606T080609_R078_T36PUR_20220606T193343\"\n)\nitem = pystac.Item.from_dict(\n    await r.json()\n)\nitem.assets[\"rendered_preview\"]",
      "metadata": {
        "trusted": true
      },
      "execution_count": 4,
      "outputs": [
        {
          "execution_count": 4,
          "output_type": "execute_result",
          "data": {
            "text/plain": "<Asset href=https://planetarycomputer-staging.microsoft.com/api/data/v1/item/preview.png?collection=sentinel-2-l2a&item=S2B_MSIL2A_20220606T080609_R078_T36PUR_20220606T193343&assets=visual&asset_bidx=visual%7C1%2C2%2C3&nodata=0>"
          },
          "metadata": {}
        }
      ],
      "id": "d55b7e1f-0563-4cba-8b54-a640cc961770"
    },
    {
      "cell_type": "markdown",
      "source": "A request to that URL will trigger a [TiTiler](https://devseed.com/titiler/) server to read raw data from Blob Storage, combine and transform it (according to the parameters in the URL, which you could customize) and return you the PNG for display.",
      "metadata": {},
      "id": "062a02cb-b1c0-48d4-a052-a2c9eb57e05c"
    },
    {
      "cell_type": "code",
      "source": "Image(url=item.assets[\"rendered_preview\"].href)",
      "metadata": {
        "trusted": true
      },
      "execution_count": 5,
      "outputs": [
        {
          "execution_count": 5,
          "output_type": "execute_result",
          "data": {
            "text/html": "<img src=\"https://planetarycomputer-staging.microsoft.com/api/data/v1/item/preview.png?collection=sentinel-2-l2a&item=S2B_MSIL2A_20220606T080609_R078_T36PUR_20220606T193343&assets=visual&asset_bidx=visual%7C1%2C2%2C3&nodata=0\"/>",
            "text/plain": "<IPython.core.display.Image object>"
          },
          "metadata": {}
        }
      ],
      "id": "bb085f46-a95e-4860-8d4e-681d25619d72"
    },
    {
      "cell_type": "markdown",
      "source": "So we're able to display an asset using a client that only understands HTTP and JSON.\n\nThe `tilejson` asset is similar to `rendered_preview`, but is useful for putting the asset on a map.",
      "metadata": {},
      "id": "cef6be9d-52f3-46e4-be2a-14d1a7130906"
    },
    {
      "cell_type": "code",
      "source": "item.assets[\"tilejson\"]",
      "metadata": {
        "trusted": true
      },
      "execution_count": 10,
      "outputs": [
        {
          "execution_count": 10,
          "output_type": "execute_result",
          "data": {
            "text/plain": "<Asset href=https://planetarycomputer-staging.microsoft.com/api/data/v1/item/tilejson.json?collection=sentinel-2-l2a&item=S2B_MSIL2A_20220606T080609_R078_T36PUR_20220606T193343&assets=visual&asset_bidx=visual%7C1%2C2%2C3&nodata=0>"
          },
          "metadata": {}
        }
      ],
      "id": "4f6d013e-98f2-438d-9185-9745929e9129"
    },
    {
      "cell_type": "markdown",
      "source": "Making a request to that endpoint returns an object with a `tiles` url, which has everything filled in for this specific item.",
      "metadata": {},
      "id": "64428033-91c4-498e-9e04-1fb0016a03ac"
    },
    {
      "cell_type": "code",
      "source": "r = await (await pyodide.http.pyfetch(item.assets[\"tilejson\"].href)).json()\nr",
      "metadata": {
        "trusted": true
      },
      "execution_count": 11,
      "outputs": [
        {
          "execution_count": 11,
          "output_type": "execute_result",
          "data": {
            "text/plain": "{'tilejson': '2.2.0',\n 'version': '1.0.0',\n 'scheme': 'xyz',\n 'tiles': ['https://planetarycomputer-staging.microsoft.com/api/data/v1/item/tiles/WebMercatorQuad/{z}/{x}/{y}@1x?collection=sentinel-2-l2a&item=S2B_MSIL2A_20220606T080609_R078_T36PUR_20220606T193343&assets=visual&asset_bidx=visual%7C1%2C2%2C3&nodata=0'],\n 'minzoom': 0,\n 'maxzoom': 24,\n 'bounds': [31.17569761, 8.95381176, 32.17948101, 9.95039568],\n 'center': [31.677589310000002, 9.45210372, 0]}"
          },
          "metadata": {}
        }
      ],
      "id": "f4941392-1424-49f1-a37e-191d9a7b3f6e"
    },
    {
      "cell_type": "code",
      "source": "tiles = r[\"tiles\"][0]",
      "metadata": {
        "trusted": true
      },
      "execution_count": 12,
      "outputs": [],
      "id": "162a7443-a2b5-441b-ad5e-d4d4fc92ffb7"
    },
    {
      "cell_type": "markdown",
      "source": "That can be handed to any system that understands tilejson URLs, like `ipyleaflet` for example. Panning and zooming around the map will trigger requests to load new data.",
      "metadata": {},
      "id": "b80777fb-3c49-40c0-9787-f24714d91f91"
    },
    {
      "cell_type": "code",
      "source": "center = (\n    (item.bbox[1] + item.bbox[3]) / 2,\n    (item.bbox[0] + item.bbox[2]) / 2\n)\n\nm = ipyleaflet.Map(\n    center=center,\n    controls=[ipyleaflet.FullScreenControl()],\n    zoom=11,\n)\n\nm.add_layer(\n    ipyleaflet.TileLayer(url=tiles)\n)\nm.scroll_wheel_zoom = True\nm",
      "metadata": {
        "trusted": true
      },
      "execution_count": 13,
      "outputs": [
        {
          "output_type": "display_data",
          "data": {
            "text/plain": "Map(center=[9.45210372, 31.677589310000002], controls=(FullScreenControl(options=['position']), ZoomControl(op…",
            "application/vnd.jupyter.widget-view+json": {
              "version_major": 2,
              "version_minor": 0,
              "model_id": "a70444c128704a8e85b9a5a2f3a1fb10"
            }
          },
          "metadata": {}
        },
        {
          "execution_count": 13,
          "output_type": "execute_result",
          "data": {},
          "metadata": {}
        }
      ],
      "id": "4c93cf83-8c3b-46d0-bbe7-b677b555eb36"
    },
    {
      "cell_type": "markdown",
      "source": "## Mosaics\n\nThus far, we've worked with just a single asset. The `/data` API also supports combining multiple assets into a single asset by [registering a STAC API search](https://planetarycomputer.microsoft.com/api/data/v1/docs#/PgSTAC%20Mosaic%20endpoints/register_search_mosaic_register_post). You define a provide a search defining the space, time, and other properties to include in the results and the `/data` API will combine the results.\n\nWe'll define the area of interest as a GeoJSON polygon. The \"filter\" is defined as [CQL-2 JSON](https://github.com/radiantearth/stac-api-spec/tree/master/fragments/filter).",
      "metadata": {},
      "id": "907a23c3-70d2-4207-9045-e69708d0e033"
    },
    {
      "cell_type": "code",
      "source": "# Define your area of interest\naoi = {\n        \"type\": \"Polygon\",\n        \"coordinates\": [\n          [\n            [\n              29.036865234375,\n              7.857940257224196\n            ],\n            [\n              31.4813232421875,\n              7.857940257224196\n            ],\n            [\n              31.4813232421875,\n              10.055402736564236\n            ],\n            [\n              29.036865234375,\n              10.055402736564236\n            ],\n            [\n              29.036865234375,\n              7.857940257224196\n            ]\n          ]\n        ]\n      }\n\nfilter_ = {\n    \"query\":\n\nfilter_ = {\n  \"op\": \"and\",\n  \"args\": [\n    {\"op\": \"s_intersects\", \"args\": [{\"property\": \"geometry\"}, aoi]},\n    {\"op\": \"=\", \"args\": [{\"property\": \"collection\"}, \"sentinel-2-l2a\"]},\n    {\"op\": \"<=\", \"args\": [{\"property\": \"eo:cloud_cover\"}, 10]}\n  ]\n}\ncollection = \"sentinel-2-l2a\"",
      "metadata": {
        "trusted": true
      },
      "execution_count": 14,
      "outputs": [],
      "id": "10c55331-0b62-415d-bf68-4c0e1ad83aef"
    },
    {
      "cell_type": "markdown",
      "source": "We can register this search with a `POST` request to the `/data/v1/mosaic/register` endpoint.",
      "metadata": {},
      "id": "329d590d-e785-4af1-807b-d20e7d3aa85f"
    },
    {
      "cell_type": "code",
      "source": "import json\n\nbody = json.dumps({\"collection\": collection, \"filter\": filter_})\nheaders = {\n    \"Accept\": \"application/json\",\n    \"Content-Type\": \"application/json\"\n}",
      "metadata": {
        "trusted": true
      },
      "execution_count": 15,
      "outputs": [],
      "id": "1b85ceb6-4002-422d-ab59-8789c22711b2"
    },
    {
      "cell_type": "code",
      "source": "r_register = await pyodide.http.pyfetch(\"https://planetarycomputer.microsoft.com/api/data/v1/mosaic/register\", method=\"POST\", body=body, headers=headers)\nregistered = await r_register.json()\nregistered",
      "metadata": {
        "trusted": true
      },
      "execution_count": 16,
      "outputs": [
        {
          "execution_count": 16,
          "output_type": "execute_result",
          "data": {
            "text/plain": "{'searchid': '125b5f36fbc3a2e80e011495798a9739',\n 'links': [{'rel': 'metadata',\n   'type': 'application/json',\n   'href': 'https://planetarycomputer.microsoft.com/api/data/v1/mosaic/125b5f36fbc3a2e80e011495798a9739/info'},\n  {'rel': 'tilejson',\n   'type': 'application/json',\n   'href': 'https://planetarycomputer.microsoft.com/api/data/v1/mosaic/125b5f36fbc3a2e80e011495798a9739/tilejson.json'}]}"
          },
          "metadata": {}
        }
      ],
      "id": "ca9815da-4fe2-41d3-a196-0e7845488eab"
    },
    {
      "cell_type": "markdown",
      "source": "That returns an object with a couple of links. We're interested in the `/tilejson.json` link, to visualize the results on a map.",
      "metadata": {},
      "id": "3293496d-0a69-45da-9189-b8110bca49f0"
    },
    {
      "cell_type": "code",
      "source": "tilejson_url = registered[\"links\"][1][\"href\"]",
      "metadata": {
        "trusted": true
      },
      "execution_count": 17,
      "outputs": [],
      "id": "2d14f7da-ecd3-4dff-99b2-742fc889549e"
    },
    {
      "cell_type": "markdown",
      "source": "We need a bit of extra information before we can visualize the results, though.\n\nFirst, we need to include the STAC collection ID, which we already have.\n\nSencond, we need to tell the tiler how to convert the raw data to an image. Several libraries are involved here, including [TiTiler](http://devseed.com/titiler/), [rio-tiler](https://cogeotiff.github.io/rio-tiler/), and [rio-color](https://github.com/mapbox/rio-color). To keep things as simple as possible, we'll use another endpoint, `/mosaic/info` to get some good defaults that were set by the Planetary Computer team.",
      "metadata": {},
      "id": "5a04133f-89bb-419d-9a5e-bfeae04891b4"
    },
    {
      "cell_type": "code",
      "source": "mosaic_info = await (\n    await pyodide.http.pyfetch(f\"https://planetarycomputer.microsoft.com/api/data/v1/mosaic/info?collection={item.collection_id}\")\n).json()\nrender_options = mosaic_info[\"renderOptions\"][0][\"options\"]\nrender_options",
      "metadata": {
        "trusted": true
      },
      "execution_count": 22,
      "outputs": [
        {
          "execution_count": 22,
          "output_type": "execute_result",
          "data": {
            "text/plain": "'assets=B04&assets=B03&assets=B02&nodata=0&color_formula=Gamma RGB 3.2 Saturation 0.8 Sigmoidal RGB 25 0.35'"
          },
          "metadata": {}
        }
      ],
      "id": "7dd3dbb6-64d1-4272-b176-6f17851b9d03"
    },
    {
      "cell_type": "markdown",
      "source": "Finally, we can get our full tilejson URL.",
      "metadata": {},
      "id": "2738b160-e7a8-4f20-aa42-6bb260f058c9"
    },
    {
      "cell_type": "code",
      "source": "render_options",
      "metadata": {
        "trusted": true
      },
      "execution_count": 26,
      "outputs": [
        {
          "execution_count": 26,
          "output_type": "execute_result",
          "data": {
            "text/plain": "'assets=B04&assets=B03&assets=B02&nodata=0&color_formula=Gamma RGB 3.2 Saturation 0.8 Sigmoidal RGB 25 0.35'"
          },
          "metadata": {}
        }
      ],
      "id": "a71adefc-829c-4b0a-bae9-b5f381b65173"
    },
    {
      "cell_type": "code",
      "source": "tiles = (\n    await (\n        await pyodide.http.pyfetch(f\"{tilejson_url}?collection={item.collection_id}&{render_options}\")\n    ).json()\n)[\"tiles\"][0]\ntiles",
      "metadata": {
        "trusted": true
      },
      "execution_count": 27,
      "outputs": [
        {
          "execution_count": 27,
          "output_type": "execute_result",
          "data": {
            "text/plain": "'https://planetarycomputer.microsoft.com/api/data/v1/mosaic/tiles/125b5f36fbc3a2e80e011495798a9739/WebMercatorQuad/{z}/{x}/{y}@1x?collection=sentinel-2-l2a&assets=B04&assets=B03&assets=B02&nodata=0&color_formula=Gamma+RGB+3.2+Saturation+0.8+Sigmoidal+RGB+25+0.35'"
          },
          "metadata": {}
        }
      ],
      "id": "5f3a0b91-e81d-4b6a-a3db-0c7942d9e155"
    },
    {
      "cell_type": "markdown",
      "source": "Which can be provided to `ipyleaflet`.",
      "metadata": {},
      "id": "8d90cd54-1503-449c-9605-dac1e844c60a"
    },
    {
      "cell_type": "code",
      "source": "center = (8.956671496894216, 30.25909423828125)\n\nm = ipyleaflet.Map(\n    center=center,\n    controls=[ipyleaflet.FullScreenControl()],\n    zoom=9,\n)\n\nm.add_layer(\n    ipyleaflet.TileLayer(url=tiles)\n)\nm.add_layer(\n    ipyleaflet.GeoJSON(data=aoi, style={\"fillOpacity\": 0}),\n)\nm.scroll_wheel_zoom = True\nm",
      "metadata": {
        "trusted": true
      },
      "execution_count": 28,
      "outputs": [
        {
          "output_type": "display_data",
          "data": {
            "text/plain": "Map(center=[8.956671496894216, 30.25909423828125], controls=(FullScreenControl(options=['position']), ZoomCont…",
            "application/vnd.jupyter.widget-view+json": {
              "version_major": 2,
              "version_minor": 0,
              "model_id": "475fd7247c004e7eb2583c8317822003"
            }
          },
          "metadata": {}
        },
        {
          "execution_count": 28,
          "output_type": "execute_result",
          "data": {},
          "metadata": {}
        }
      ],
      "id": "d3a7e504-dd0e-455a-87a0-5c482e28a7c2"
    },
    {
      "cell_type": "markdown",
      "source": "This is essentially how the [Planetary Computer Explorer](https://planetarycomputer.microsoft.com/explore) works. The `filter` is generated based on your browser's window and whatever filters you've toggled. Based on that user input, it generates the CQL2-json query, registers a search, builds a TileJSON request (using any visualization options you've set) and displays the result on the map.\n\n## Next steps\n\nThis was a brief introduction to the `/data` API. For more, see the [reference documentation](https://planetarycomputer.microsoft.com/api/data/v1/docs). Feel free to share your creations using the `/data` API on the Planetary Computer [discussions board](https://github.com/microsoft/PlanetaryComputer/discussions/categories/show-and-tell).",
      "metadata": {},
      "id": "0dd9bd6e-f934-4d00-ad81-2dba4b47e338"
    }
  ]
}